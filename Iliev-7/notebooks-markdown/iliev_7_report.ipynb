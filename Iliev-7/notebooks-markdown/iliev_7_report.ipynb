{
 "cells": [
  {
   "cell_type": "code",
   "execution_count": null,
   "metadata": {},
   "outputs": [],
   "source": [
    "import os, re\n",
    "import pandas as pd\n",
    "import altair as alt\n",
    "\n",
    "from py_rhyme import PyRhyme\n",
    "\n",
    "\n",
    "# Simulation object (Storing path to files)\n",
    "simulation = {}\n",
    "simulation['prefix'] = ##simulation_directory##\n",
    "simulation['files'] = sorted(os.listdir(simulation['prefix']))\n",
    "\n",
    "\n",
    "# PyRhyme Object\n",
    "rhyme = PyRhyme(simulation['prefix'] + '/' + simulation['files'][0])\n",
    "nsnaps = rhyme.ds.num_of_snapshots()\n",
    "\n",
    "\n",
    "# data structure\n",
    "data_structure = {\n",
    "    'analysis': {\n",
    "        'ifront': {\n",
    "            'data': { 't': [], 'x': [], 'v': [], 'lines': {}, 'units': {\n",
    "                't': 'Myr', 'x': 'kpc', 'v': 'km s^-1'\n",
    "            }},\n",
    "            'pos': lambda: ifront_pos('./analysis/ifront'),\n",
    "            'vel': lambda: ifront_pos('./analysis/ifront'),\n",
    "        }\n",
    "    }\n",
    "}\n",
    "\n",
    "ifront = data_structure['analysis']['ifront']['data']\n",
    "\n",
    "\n",
    "for root, sub_dirs in data_structure.items():\n",
    "    if not os.path.exists(root):\n",
    "        os.makedirs(root)\n",
    "        \n",
    "    for sub_dir in sub_dirs.keys():\n",
    "        if not os.path.exists(root + '/' + sub_dir):\n",
    "            os.makedirs(root + '/' + sub_dir)"
   ]
  },
  {
   "cell_type": "markdown",
   "metadata": {},
   "source": [
    "# Ionization Front\n",
    "Locating I-front and storing it into `data_structure['analysis']['ifront']['data']` object."
   ]
  },
  {
   "cell_type": "code",
   "execution_count": null,
   "metadata": {},
   "outputs": [],
   "source": [
    "v_conv = 3.086e+19 / 3.154e+13\n",
    "\n",
    "p1 = [0, .5, .5]\n",
    "p2 = [1, .5, .5]\n",
    "\n",
    "if not (ifront['t'] and ifront['x'] and ifront['v']):\n",
    "    for i in range(1, nsnaps):\n",
    "        rhyme.ds.jump_to(i)\n",
    "        ifront['lines'][i] = line = rhyme.lineout(p1, p2, 'ntr_frac_0.', n_intervals=128)\n",
    "        ifront['t'].append(rhyme.ds.time())\n",
    "        ifront['x'].append(line['x'][line['y'].index(min(line['y']))] * 1000)\n",
    "        if i == 1:\n",
    "            ifront['v'].append(ifront['x'][-1] / ifront['t'][-1])\n",
    "        else:\n",
    "            ifront['v'].append((ifront['x'][-1] - ifront['x'][-2]) / (ifront['t'][-1] - ifront['t'][-2]))\n",
    "         "
   ]
  },
  {
   "cell_type": "markdown",
   "metadata": {},
   "source": [
    "# Ionization Front Position as a function of Time"
   ]
  },
  {
   "cell_type": "code",
   "execution_count": null,
   "metadata": {},
   "outputs": [],
   "source": [
    "ifront_position = pd.DataFrame({'t': ifront['t'], 'x': ifront['x']})\n",
    "\n",
    "alt.Chart(ifront_position).mark_line(color='black').encode(\n",
    "    alt.X('t', scale=alt.Scale(domain=(-3, 50), clamp=True)),\n",
    "    alt.Y('x', scale=alt.Scale(domain=(4, 5.8), clamp=True))\n",
    ")"
   ]
  },
  {
   "cell_type": "markdown",
   "metadata": {},
   "source": [
    "Ionization Front Velocity as a function of Time"
   ]
  },
  {
   "cell_type": "code",
   "execution_count": null,
   "metadata": {},
   "outputs": [],
   "source": [
    "ifront_velocity = pd.DataFrame({'t': ifront['t'][10:], 'v': ifront['v'][10:]})\n",
    "    \n",
    "alt.Chart(ifront_velocity).mark_point(color='black').encode(\n",
    "    alt.X('t', scale=alt.Scale(domain=(-3, 50), clamp=True)),\n",
    "    alt.Y('v', scale=alt.Scale(domain=(-1, 3), clamp=True))\n",
    ")"
   ]
  }
 ],
 "metadata": {
  "kernelspec": {
   "display_name": "Python 3",
   "language": "python",
   "name": "python3"
  },
  "language_info": {
   "codemirror_mode": {
    "name": "ipython",
    "version": 3
   },
   "file_extension": ".py",
   "mimetype": "text/x-python",
   "name": "python",
   "nbconvert_exporter": "python",
   "pygments_lexer": "ipython3",
   "version": "3.7.5"
  }
 },
 "nbformat": 4,
 "nbformat_minor": 4
}
