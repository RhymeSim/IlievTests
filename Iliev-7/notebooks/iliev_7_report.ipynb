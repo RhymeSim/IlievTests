{
 "cells": [
  {
   "cell_type": "code",
   "execution_count": null,
   "metadata": {},
   "outputs": [],
   "source": [
    "import os, re\n",
    "\n",
    "from py_rhyme.visit import VisItAPI as Vis\n",
    "\n",
    "\n",
    "simulations = []\n",
    "\n",
    "for d in os.listdir('./..'):\n",
    "    if re.match('^iliev-7-128-.*-RadameshHydro$', d):\n",
    "        simulations.append(d)\n",
    "\n",
    "# Directory structure\n",
    "for s in simulations:\n",
    "    if not os.path.exists(s):\n",
    "        os.makedir(s)\n"
   ]
  },
  {
   "cell_type": "code",
   "execution_count": null,
   "metadata": {},
   "outputs": [],
   "source": []
  }
 ],
 "metadata": {
  "kernelspec": {
   "display_name": "Python 2",
   "language": "python",
   "name": "python2"
  },
  "language_info": {
   "codemirror_mode": {
    "name": "ipython",
    "version": 2
   },
   "file_extension": ".py",
   "mimetype": "text/x-python",
   "name": "python",
   "nbconvert_exporter": "python",
   "pygments_lexer": "ipython2",
   "version": "2.7.16"
  }
 },
 "nbformat": 4,
 "nbformat_minor": 2
}
