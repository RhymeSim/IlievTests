{
 "cells": [
  {
   "cell_type": "code",
   "execution_count": null,
   "metadata": {},
   "outputs": [],
   "source": [
    "import os, re\n",
    "import pandas as pd\n",
    "import altair as alt\n",
    "\n",
    "from py_rhyme import PyRhyme\n",
    "\n",
    "\n",
    "# Info about already finished\n",
    "simulations = {}\n",
    "prefix = './..'\n",
    "\n",
    "for directory in os.listdir(prefix):\n",
    "    if re.match('^iliev-7-128-.*-RadameshHydro$', directory):\n",
    "        sname = directory.replace('-RadameshHydro', '')\n",
    "        rhyme_dir = '/'.join([directory, sname])\n",
    "        first_file = os.listdir('/'.join([prefix, rhyme_dir]))[0]\n",
    "        \n",
    "        simulations[sname] = sim = {}\n",
    "        sim['id'] = sname\n",
    "        sim['py_rhyme'] = PyRhyme('/'.join([prefix, rhyme_dir, first_file]))\n",
    "        sim['path'] = { 'prefix': prefix, 'rhyme_dir': rhyme_dir, 'file': first_file }\n",
    "\n",
    "\n",
    "# Directory structure\n",
    "for d in simulations.keys():\n",
    "    if not os.path.exists(d):\n",
    "        os.makedirs(d)\n"
   ]
  },
  {
   "cell_type": "markdown",
   "metadata": {},
   "source": [
    "# Ionization Front\n",
    "Extracting I-Front from data for each simulation and storing them into `ifronts` object."
   ]
  },
  {
   "cell_type": "code",
   "execution_count": null,
   "metadata": {},
   "outputs": [],
   "source": [
    "ifronts = {}\n",
    "v_conv = 3.086e+19 / 3.154e+13\n",
    "\n",
    "for s in simulations:\n",
    "    ifronts[s] = { 't': [], 'x': [], 'v': [], 'lines': {}, 'units': {\n",
    "        't': 'Myr', 'x': 'kpc', 'v': 'km s^-1'\n",
    "    }}\n",
    "    \n",
    "for k, s in simulations.items():\n",
    "    if k in ifronts and ifronts[k]['t'] and ifronts[k]['x']:\n",
    "        continue\n",
    "\n",
    "    ifront = ifronts[k]\n",
    "    \n",
    "    r = s['py_rhyme']\n",
    "    nsnaps = r.ds.num_of_snapshots()\n",
    "    \n",
    "    p1 = [0, .5, .5]\n",
    "    p2 = [1, .5, .5]\n",
    "    \n",
    "    for i in range(1, 300):\n",
    "        r.ds.jump_to(i)\n",
    "        ifront['lines'][i] = line = r.lineout(p1, p2, 'ntr_frac_0.', n_intervals=128)\n",
    "        ifront['t'].append(r.ds.time())\n",
    "        ifront['x'].append(line['x'][line['y'].index(min(line['y']))] * 1000)\n",
    "        if i == 1:\n",
    "            ifront['v'].append(ifront['x'][-1] / ifront['t'][-1] * v_conv)\n",
    "        else:\n",
    "            ifront['v'].append((ifront['x'][-1] - ifront['x'][-2]) / (ifront['t'][-1] - ifront['t'][-2]) * v_conv)\n",
    "         "
   ]
  },
  {
   "cell_type": "markdown",
   "metadata": {},
   "source": [
    "Evolution of I-Front position"
   ]
  },
  {
   "cell_type": "code",
   "execution_count": null,
   "metadata": {},
   "outputs": [],
   "source": [
    "sid = 0\n",
    "sims = list(simulations.keys())\n",
    "\n",
    "ifront_position = pd.DataFrame({'t': ifronts[sims[sid]]['t'], 'x': ifronts[sims[sid]]['x']})\n",
    "\n",
    "alt.Chart(ifront_position).mark_line(color='black').encode(\n",
    "    alt.X('t', scale=alt.Scale(domain=(-3, 50), clamp=True)),\n",
    "    alt.Y('x', scale=alt.Scale(domain=(4, 5.8), clamp=True))\n",
    ")"
   ]
  },
  {
   "cell_type": "markdown",
   "metadata": {},
   "source": [
    "Evolution of I-Front velocity"
   ]
  },
  {
   "cell_type": "code",
   "execution_count": null,
   "metadata": {},
   "outputs": [],
   "source": [
    "sid = 0\n",
    "sims = list(simulations.keys())\n",
    "\n",
    "ifront_velocity = pd.DataFrame({'t': ifronts[sims[sid]]['t'], 'v': ifronts[sims[sid]]['v']})\n",
    "\n",
    "alt.Chart(ifront_velocity).mark_line(color='black').encode(\n",
    "    alt.X('t', scale=alt.Scale(domain=(-3, 50), clamp=True)),\n",
    "    alt.Y('v', scale=alt.Scale(domain=(-0.3, 3), clamp=True))\n",
    ")"
   ]
  }
 ],
 "metadata": {
  "kernelspec": {
   "display_name": "Python 2",
   "language": "python",
   "name": "python2"
  },
  "language_info": {
   "codemirror_mode": {
    "name": "ipython",
    "version": 3
   },
   "file_extension": ".py",
   "mimetype": "text/x-python",
   "name": "python",
   "nbconvert_exporter": "python",
   "pygments_lexer": "ipython3",
   "version": "3.7.5"
  }
 },
 "nbformat": 4,
 "nbformat_minor": 4
}
